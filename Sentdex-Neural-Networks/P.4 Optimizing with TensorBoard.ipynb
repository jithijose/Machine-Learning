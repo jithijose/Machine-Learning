{
 "cells": [
  {
   "cell_type": "markdown",
   "metadata": {},
   "source": [
    "# P.4 Optimizing with TensorBoard"
   ]
  },
  {
   "cell_type": "code",
   "execution_count": 1,
   "metadata": {},
   "outputs": [],
   "source": [
    "import tensorflow as tf\n",
    "from tensorflow.keras.models import Sequential\n",
    "from tensorflow.keras.layers import Dense, Flatten, Dropout, Conv2D, Activation, MaxPool2D\n",
    "import pickle\n",
    "import time\n",
    "\n",
    "# tensorboard imports\n",
    "from tensorflow.keras.callbacks import TensorBoard"
   ]
  },
  {
   "cell_type": "code",
   "execution_count": 2,
   "metadata": {},
   "outputs": [],
   "source": [
    "# Define tensorboard log directory\n",
    "\n",
    "NAME = 'Cat-vs-Dog-cnn-64X2-{}'.format(time.time())\n",
    "\n",
    "tensorboard = TensorBoard(log_dir='logs/{}'.format(NAME), histogram_freq=1)"
   ]
  },
  {
   "cell_type": "code",
   "execution_count": 3,
   "metadata": {},
   "outputs": [],
   "source": [
    "# load datasets from file\n",
    "\n",
    "X = pickle.load(open('X.pickle', 'rb'))\n",
    "y = pickle.load(open('y.pickle', 'rb'))"
   ]
  },
  {
   "cell_type": "code",
   "execution_count": 4,
   "metadata": {},
   "outputs": [],
   "source": [
    "# normalize the data(feature datasets)\n",
    "\n",
    "X = X/255.0"
   ]
  },
  {
   "cell_type": "code",
   "execution_count": null,
   "metadata": {},
   "outputs": [],
   "source": [
    "dense_layers = [0, 1, 2]\n",
    "layer_sizes = [32, 64, 128]\n",
    "conv_layers = [1, 2, 3]\n",
    "\n",
    "for dense_layer in dense_layers:\n",
    "    for layer_size in layer_sizes:\n",
    "        for conv_layer in conv_layers:\n",
    "            NAME = '{}-conv-{}-node-{}-dense-{}'.format(conv_layer, layer_size, dense_layer, int(time.time()))\n",
    "            print(NAME)"
   ]
  },
  {
   "cell_type": "code",
   "execution_count": 6,
   "metadata": {},
   "outputs": [
    {
     "name": "stdout",
     "output_type": "stream",
     "text": [
      "Model: \"sequential_27\"\n",
      "_________________________________________________________________\n",
      "Layer (type)                 Output Shape              Param #   \n",
      "=================================================================\n",
      "conv2d_54 (Conv2D)           (None, 48, 48, 64)        640       \n",
      "_________________________________________________________________\n",
      "activation_108 (Activation)  (None, 48, 48, 64)        0         \n",
      "_________________________________________________________________\n",
      "max_pooling2d_54 (MaxPooling (None, 24, 24, 64)        0         \n",
      "_________________________________________________________________\n",
      "conv2d_55 (Conv2D)           (None, 22, 22, 64)        36928     \n",
      "_________________________________________________________________\n",
      "activation_109 (Activation)  (None, 22, 22, 64)        0         \n",
      "_________________________________________________________________\n",
      "max_pooling2d_55 (MaxPooling (None, 11, 11, 64)        0         \n",
      "_________________________________________________________________\n",
      "conv2d_56 (Conv2D)           (None, 9, 9, 64)          36928     \n",
      "_________________________________________________________________\n",
      "activation_110 (Activation)  (None, 9, 9, 64)          0         \n",
      "_________________________________________________________________\n",
      "max_pooling2d_56 (MaxPooling (None, 4, 4, 64)          0         \n",
      "_________________________________________________________________\n",
      "flatten_27 (Flatten)         (None, 1024)              0         \n",
      "_________________________________________________________________\n",
      "dense_54 (Dense)             (None, 512)               524800    \n",
      "_________________________________________________________________\n",
      "activation_111 (Activation)  (None, 512)               0         \n",
      "_________________________________________________________________\n",
      "dense_55 (Dense)             (None, 1)                 513       \n",
      "_________________________________________________________________\n",
      "activation_112 (Activation)  (None, 1)                 0         \n",
      "=================================================================\n",
      "Total params: 599,809\n",
      "Trainable params: 599,809\n",
      "Non-trainable params: 0\n",
      "_________________________________________________________________\n",
      "Epoch 1/10\n",
      "702/702 [==============================] - 80s 114ms/step - loss: 0.6457 - accuracy: 0.6112 - val_loss: 0.5838 - val_accuracy: 0.6934\n",
      "Epoch 2/10\n",
      "702/702 [==============================] - 80s 114ms/step - loss: 0.5319 - accuracy: 0.7330 - val_loss: 0.4960 - val_accuracy: 0.7607\n",
      "Epoch 3/10\n",
      "702/702 [==============================] - 84s 120ms/step - loss: 0.4643 - accuracy: 0.7808 - val_loss: 0.4966 - val_accuracy: 0.7571\n",
      "Epoch 4/10\n",
      "702/702 [==============================] - 86s 122ms/step - loss: 0.4157 - accuracy: 0.8095 - val_loss: 0.4523 - val_accuracy: 0.7912\n",
      "Epoch 5/10\n",
      "702/702 [==============================] - 81s 116ms/step - loss: 0.3754 - accuracy: 0.8270 - val_loss: 0.4241 - val_accuracy: 0.8028\n",
      "Epoch 6/10\n",
      "702/702 [==============================] - 82s 117ms/step - loss: 0.3408 - accuracy: 0.8482 - val_loss: 0.4229 - val_accuracy: 0.8168\n",
      "Epoch 7/10\n",
      "702/702 [==============================] - 84s 119ms/step - loss: 0.3051 - accuracy: 0.8674 - val_loss: 0.4281 - val_accuracy: 0.8120\n",
      "Epoch 8/10\n",
      "702/702 [==============================] - 82s 117ms/step - loss: 0.2647 - accuracy: 0.8874 - val_loss: 0.4860 - val_accuracy: 0.8092\n",
      "Epoch 9/10\n",
      "702/702 [==============================] - 75s 106ms/step - loss: 0.2272 - accuracy: 0.9040 - val_loss: 0.5108 - val_accuracy: 0.7872\n",
      "Epoch 10/10\n",
      "702/702 [==============================] - 73s 105ms/step - loss: 0.1902 - accuracy: 0.9208 - val_loss: 0.5456 - val_accuracy: 0.7996\n"
     ]
    }
   ],
   "source": [
    "# define model with various combinations of convolution and dense layers having different layer sizes\n",
    "\n",
    "#dense_layers = [0, 1, 2]\n",
    "#layer_sizes = [32, 64, 128]\n",
    "#conv_layers = [1, 2, 3]\n",
    "\n",
    "dense_layers = [1]\n",
    "layer_sizes = [64]\n",
    "conv_layers = [3]\n",
    "\n",
    "for dense_layer in dense_layers:\n",
    "    for layer_size in layer_sizes:\n",
    "        for conv_layer in conv_layers:\n",
    "            NAME = '{}-conv-{}-node-{}-dense-{}'.format(conv_layer, layer_size, dense_layer, int(time.time()))\n",
    "            tensorboard = TensorBoard(log_dir='logs/{}'.format(NAME), histogram_freq=1)\n",
    "            model = Sequential()\n",
    "\n",
    "            model.add(Conv2D(64, (3, 3), input_shape=X.shape[1:]))\n",
    "            model.add(Activation('relu'))\n",
    "            model.add(MaxPool2D(pool_size=(2, 2)))\n",
    "            \n",
    "            for l in range(conv_layer-1):\n",
    "                model.add(Conv2D(layer_size, (3, 3)))\n",
    "                model.add(Activation('relu'))\n",
    "                model.add(MaxPool2D(pool_size=(2, 2)))\n",
    "            \n",
    "            model.add(Flatten()) # Flatten the data before applying to dense layers(vectorization of data)\n",
    "            \n",
    "            for l in range(dense_layer):\n",
    "                #model.add(Dense(layer_size))\n",
    "                model.add(Dense(512))\n",
    "                model.add(Activation('relu'))\n",
    "\n",
    "            model.add(Dense(1)) # final output layer and apply activation function since its a probability prediction\n",
    "            model.add(Activation('sigmoid'))\n",
    "\n",
    "            model.compile(loss='binary_crossentropy',\n",
    "                         optimizer='adam',\n",
    "                         metrics=['accuracy'])\n",
    "            model.summary()\n",
    "            model.fit(X, y, batch_size=32, epochs=10, validation_split=0.1, callbacks=[tensorboard])"
   ]
  },
  {
   "cell_type": "code",
   "execution_count": 7,
   "metadata": {},
   "outputs": [
    {
     "name": "stdout",
     "output_type": "stream",
     "text": [
      "WARNING:tensorflow:From c:\\python\\dev\\env\\lib\\site-packages\\tensorflow\\python\\ops\\resource_variable_ops.py:1817: calling BaseResourceVariable.__init__ (from tensorflow.python.ops.resource_variable_ops) with constraint is deprecated and will be removed in a future version.\n",
      "Instructions for updating:\n",
      "If using Keras pass *_constraint arguments to layers.\n",
      "INFO:tensorflow:Assets written to: 64x3-CNN.model\\assets\n"
     ]
    }
   ],
   "source": [
    "# Save the model\n",
    "\n",
    "model.save('64x3-CNN.model')"
   ]
  },
  {
   "cell_type": "code",
   "execution_count": 13,
   "metadata": {},
   "outputs": [
    {
     "name": "stdout",
     "output_type": "stream",
     "text": [
      "Dog\n"
     ]
    }
   ],
   "source": [
    "# perform prediction on trained model\n",
    "import cv2\n",
    "\n",
    "CATEGORIES = ['Cat', 'Dog']\n",
    "\n",
    "def prepare(filepath):\n",
    "    IMG_SIZE = 50\n",
    "    img_array = cv2.imread(filepath, cv2.IMREAD_GRAYSCALE)\n",
    "    new_array = cv2.resize(img_array, (IMG_SIZE, IMG_SIZE))\n",
    "    return new_array.reshape(-1, IMG_SIZE, IMG_SIZE, 1)\n",
    "\n",
    "model =tf.keras.models.load_model('64x3-CNN.model')\n",
    "\n",
    "prediction = model.predict([prepare('keeshond_dog_pictures (1).jpg')])\n",
    "print(CATEGORIES[int(prediction)])"
   ]
  }
 ],
 "metadata": {
  "kernelspec": {
   "display_name": "Python 3",
   "language": "python",
   "name": "python3"
  },
  "language_info": {
   "codemirror_mode": {
    "name": "ipython",
    "version": 3
   },
   "file_extension": ".py",
   "mimetype": "text/x-python",
   "name": "python",
   "nbconvert_exporter": "python",
   "pygments_lexer": "ipython3",
   "version": "3.7.6"
  }
 },
 "nbformat": 4,
 "nbformat_minor": 4
}
