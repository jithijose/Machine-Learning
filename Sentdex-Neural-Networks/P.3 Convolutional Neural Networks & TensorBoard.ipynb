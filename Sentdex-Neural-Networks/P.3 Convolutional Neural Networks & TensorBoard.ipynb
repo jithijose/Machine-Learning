{
 "cells": [
  {
   "cell_type": "markdown",
   "metadata": {},
   "source": [
    "# P.3 Convolutional Neural Networks & Tensorboard"
   ]
  },
  {
   "cell_type": "code",
   "execution_count": 1,
   "metadata": {},
   "outputs": [],
   "source": [
    "import tensorflow as tf\n",
    "from tensorflow.keras.models import Sequential\n",
    "from tensorflow.keras.layers import Dense, Flatten, Dropout, Conv2D, Activation, MaxPool2D\n",
    "import pickle\n",
    "import time\n",
    "\n",
    "# tensorboard imports\n",
    "from tensorflow.keras.callbacks import TensorBoard"
   ]
  },
  {
   "cell_type": "code",
   "execution_count": 9,
   "metadata": {},
   "outputs": [],
   "source": [
    "# Define tensorboard log directory\n",
    "\n",
    "NAME = 'Cat-vs-Dog-cnn-64X2-{}'.format(time.time())\n",
    "\n",
    "tensorboard = TensorBoard(log_dir='logs/{}'.format(NAME), histogram_freq=1)"
   ]
  },
  {
   "cell_type": "code",
   "execution_count": 3,
   "metadata": {},
   "outputs": [],
   "source": [
    "# load datasets from file\n",
    "\n",
    "X = pickle.load(open('X.pickle', 'rb'))\n",
    "y = pickle.load(open('y.pickle', 'rb'))"
   ]
  },
  {
   "cell_type": "code",
   "execution_count": 5,
   "metadata": {},
   "outputs": [],
   "source": [
    "# normalize the data(feature datasets)\n",
    "\n",
    "X = X/255.0"
   ]
  },
  {
   "cell_type": "code",
   "execution_count": 6,
   "metadata": {},
   "outputs": [],
   "source": [
    "# define model\n",
    "\n",
    "model = Sequential()\n",
    "\n",
    "model.add(Conv2D(64, (3, 3), input_shape=X.shape[1:]))\n",
    "model.add(Activation('relu'))\n",
    "model.add(MaxPool2D(pool_size=(2, 2)))\n",
    "\n",
    "model.add(Conv2D(64, (3, 3)))\n",
    "model.add(Activation('relu'))\n",
    "model.add(MaxPool2D(pool_size=(2, 2)))\n",
    "\n",
    "model.add(Flatten())\n",
    "model.add(Dense(64))\n",
    "model.add(Activation('relu'))\n",
    "\n",
    "model.add(Dense(1))\n",
    "model.add(Activation('sigmoid'))\n",
    "\n",
    "model.compile(loss='binary_crossentropy',\n",
    "             optimizer='adam',\n",
    "             metrics=['accuracy'])"
   ]
  },
  {
   "cell_type": "code",
   "execution_count": 7,
   "metadata": {},
   "outputs": [
    {
     "name": "stdout",
     "output_type": "stream",
     "text": [
      "Model: \"sequential\"\n",
      "_________________________________________________________________\n",
      "Layer (type)                 Output Shape              Param #   \n",
      "=================================================================\n",
      "conv2d (Conv2D)              (None, 48, 48, 64)        640       \n",
      "_________________________________________________________________\n",
      "activation (Activation)      (None, 48, 48, 64)        0         \n",
      "_________________________________________________________________\n",
      "max_pooling2d (MaxPooling2D) (None, 24, 24, 64)        0         \n",
      "_________________________________________________________________\n",
      "conv2d_1 (Conv2D)            (None, 22, 22, 64)        36928     \n",
      "_________________________________________________________________\n",
      "activation_1 (Activation)    (None, 22, 22, 64)        0         \n",
      "_________________________________________________________________\n",
      "max_pooling2d_1 (MaxPooling2 (None, 11, 11, 64)        0         \n",
      "_________________________________________________________________\n",
      "flatten (Flatten)            (None, 7744)              0         \n",
      "_________________________________________________________________\n",
      "dense (Dense)                (None, 64)                495680    \n",
      "_________________________________________________________________\n",
      "activation_2 (Activation)    (None, 64)                0         \n",
      "_________________________________________________________________\n",
      "dense_1 (Dense)              (None, 1)                 65        \n",
      "_________________________________________________________________\n",
      "activation_3 (Activation)    (None, 1)                 0         \n",
      "=================================================================\n",
      "Total params: 533,313\n",
      "Trainable params: 533,313\n",
      "Non-trainable params: 0\n",
      "_________________________________________________________________\n"
     ]
    }
   ],
   "source": [
    "model.summary()"
   ]
  },
  {
   "cell_type": "code",
   "execution_count": 10,
   "metadata": {},
   "outputs": [
    {
     "name": "stdout",
     "output_type": "stream",
     "text": [
      "Epoch 1/10\n",
      "702/702 [==============================] - 67s 96ms/step - loss: 0.1540 - accuracy: 0.9398 - val_loss: 0.6137 - val_accuracy: 0.7956\n",
      "Epoch 2/10\n",
      "702/702 [==============================] - 66s 95ms/step - loss: 0.1151 - accuracy: 0.9579 - val_loss: 0.6907 - val_accuracy: 0.7968\n",
      "Epoch 3/10\n",
      "702/702 [==============================] - 68s 96ms/step - loss: 0.0913 - accuracy: 0.9667 - val_loss: 0.7801 - val_accuracy: 0.7944\n",
      "Epoch 4/10\n",
      "702/702 [==============================] - 68s 97ms/step - loss: 0.0721 - accuracy: 0.9752 - val_loss: 0.8432 - val_accuracy: 0.7940\n",
      "Epoch 5/10\n",
      "702/702 [==============================] - 68s 97ms/step - loss: 0.0545 - accuracy: 0.9818 - val_loss: 0.9196 - val_accuracy: 0.7984\n",
      "Epoch 6/10\n",
      "702/702 [==============================] - 70s 100ms/step - loss: 0.0402 - accuracy: 0.9876 - val_loss: 0.9328 - val_accuracy: 0.7916\n",
      "Epoch 7/10\n",
      "702/702 [==============================] - 69s 99ms/step - loss: 0.0419 - accuracy: 0.9861 - val_loss: 1.1202 - val_accuracy: 0.7944\n",
      "Epoch 8/10\n",
      "702/702 [==============================] - 70s 99ms/step - loss: 0.0332 - accuracy: 0.9897 - val_loss: 1.1930 - val_accuracy: 0.7864\n",
      "Epoch 9/10\n",
      "702/702 [==============================] - 70s 100ms/step - loss: 0.0349 - accuracy: 0.9883 - val_loss: 1.3216 - val_accuracy: 0.7844\n",
      "Epoch 10/10\n",
      "702/702 [==============================] - 71s 102ms/step - loss: 0.0248 - accuracy: 0.9919 - val_loss: 1.2787 - val_accuracy: 0.7836\n"
     ]
    },
    {
     "data": {
      "text/plain": [
       "<tensorflow.python.keras.callbacks.History at 0x17431ab2088>"
      ]
     },
     "execution_count": 10,
     "metadata": {},
     "output_type": "execute_result"
    }
   ],
   "source": [
    "# train the model\n",
    "\n",
    "model.fit(X, y, batch_size=32, epochs=10, validation_split=0.1, callbacks=[tensorboard])"
   ]
  }
 ],
 "metadata": {
  "kernelspec": {
   "display_name": "Python 3",
   "language": "python",
   "name": "python3"
  },
  "language_info": {
   "codemirror_mode": {
    "name": "ipython",
    "version": 3
   },
   "file_extension": ".py",
   "mimetype": "text/x-python",
   "name": "python",
   "nbconvert_exporter": "python",
   "pygments_lexer": "ipython3",
   "version": "3.7.6"
  }
 },
 "nbformat": 4,
 "nbformat_minor": 4
}
